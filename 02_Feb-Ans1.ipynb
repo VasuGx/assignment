{
 "cells": [
  {
   "cell_type": "markdown",
   "id": "6a9279fe-770f-4f10-8f85-9f21eea9770b",
   "metadata": {},
   "source": [
    "Q1. Explain with an example each when to use a for loop and a while loop.\n",
    "Ans- There are two types of loops :- \n",
    "i) while loop\n",
    "ii) for loop\n",
    "When a while loop is used the statements are executed till the boolean condition is true and as soon as the boolean conditions turns to false the loop stops. and also while loop also has a keyword which is else , which is executed when the boolean condition of while becomes false.\n",
    "for loop is used when we know the number of iteration or the number of times we have to execute a loop.\n",
    "the examples are given below:- "
   ]
  },
  {
   "cell_type": "code",
   "execution_count": 1,
   "id": "f57364f3-0f3c-494e-bad8-f28a05538a90",
   "metadata": {},
   "outputs": [
    {
     "name": "stdout",
     "output_type": "stream",
     "text": [
      "0\n",
      "1\n",
      "2\n",
      "3\n",
      "4\n",
      "5\n"
     ]
    }
   ],
   "source": [
    "#while loop \n",
    "#printing first 5 natural numbers using while loop\n",
    "i=0\n",
    "while(i<=5):\n",
    "    print(i)\n",
    "    i=i+1"
   ]
  },
  {
   "cell_type": "code",
   "execution_count": 2,
   "id": "14605f12-48f2-4194-9b73-028088aed6dc",
   "metadata": {},
   "outputs": [
    {
     "name": "stdout",
     "output_type": "stream",
     "text": [
      "0\n",
      "1\n",
      "2\n",
      "3\n",
      "4\n",
      "5\n"
     ]
    }
   ],
   "source": [
    "#for loop \n",
    "#print 0 to 5 numbers\n",
    "for x in range(6):\n",
    "  print(x)\n",
    "  "
   ]
  },
  {
   "cell_type": "markdown",
   "id": "29026d81-cf24-4911-879f-df1a9a84311a",
   "metadata": {},
   "source": [
    "Q2. Write a python program to print the sum and product of the first 10 natural numbers using for\n",
    "and while loop."
   ]
  },
  {
   "cell_type": "code",
   "execution_count": 10,
   "id": "ea147d84-c80a-48ce-a412-a168392a6a2f",
   "metadata": {},
   "outputs": [
    {
     "name": "stdout",
     "output_type": "stream",
     "text": [
      "Sum of first 10 natural no is :-  55\n",
      "product of first 10 natural no is :-  3628800\n"
     ]
    }
   ],
   "source": [
    "# using for loop\n",
    "l=[]\n",
    "product=1\n",
    "sum=0\n",
    "for x in range(11):\n",
    "    if x>=1 and x<=10:\n",
    "        l.append(x)\n",
    "        sum=sum+x\n",
    "        product=product*x\n",
    "print(\"Sum of first 10 natural no is :- \", sum)\n",
    "print(\"product of first 10 natural no is :- \", product)"
   ]
  },
  {
   "cell_type": "code",
   "execution_count": 11,
   "id": "8896e636-0b9f-45e4-896a-e8cbf6026e93",
   "metadata": {},
   "outputs": [
    {
     "name": "stdout",
     "output_type": "stream",
     "text": [
      "Sum of first 10 natural no is :-  55\n",
      "product of first 10 natural no is :-  3628800\n"
     ]
    }
   ],
   "source": [
    "# using for while\n",
    "i=1\n",
    "sum=0\n",
    "product=1\n",
    "while(i<=10):\n",
    "    sum=sum+i\n",
    "    product=product*i\n",
    "    i=i+1\n",
    "print(\"Sum of first 10 natural no is :- \", sum)\n",
    "print(\"product of first 10 natural no is :- \", product)"
   ]
  },
  {
   "cell_type": "markdown",
   "id": "3dc99317-fd86-4287-afd2-85a0aaf67cfc",
   "metadata": {},
   "source": [
    "Q3. Create a python program to compute the electricity bill for a household."
   ]
  },
  {
   "cell_type": "code",
   "execution_count": 2,
   "id": "71e74db4-83e2-4e71-a999-bec050b6826c",
   "metadata": {},
   "outputs": [
    {
     "name": "stdin",
     "output_type": "stream",
     "text": [
      "Enter the units consumed -  500\n"
     ]
    },
    {
     "name": "stdout",
     "output_type": "stream",
     "text": [
      "TOTAL COST -  6050\n"
     ]
    }
   ],
   "source": [
    "unit=int(input(\"Enter the units consumed - \"))\n",
    "cost=0\n",
    "if unit<=100:\n",
    "     cost=unit*4.5\n",
    "if unit>100 and unit<=200:\n",
    "        unit=unit-100\n",
    "        cost=450+(unit*6)\n",
    "if unit>200 and unit<=300:\n",
    "    unit=unit-200\n",
    "    cost=1050+(unit*10)\n",
    "if unit>300:\n",
    "    unit=unit-300\n",
    "    cost=2050+(unit*20)\n",
    "\n",
    "print(\"TOTAL COST - \", cost)"
   ]
  },
  {
   "cell_type": "markdown",
   "id": "a20e38bd-ef05-42bc-b2e5-506966b5c8c9",
   "metadata": {},
   "source": [
    "Q4. Create a list of numbers from 1 to 100. Use for loop and while loop to calculate the cube of each\n",
    "number and if the cube of that number is divisible by 4 or 5 then append that number in a list and print\n",
    "that list."
   ]
  },
  {
   "cell_type": "code",
   "execution_count": 4,
   "id": "b45e6f69-aa65-4c4c-a9c8-b627a5211abc",
   "metadata": {},
   "outputs": [
    {
     "name": "stdout",
     "output_type": "stream",
     "text": [
      "[8, 64, 125, 216, 512, 1000, 1728, 2744, 3375, 4096, 5832, 8000, 10648, 13824, 15625, 17576, 21952, 27000, 32768, 39304, 42875, 46656, 54872, 64000, 74088, 85184, 91125, 97336, 110592, 125000, 140608, 157464, 166375, 175616, 195112, 216000, 238328, 262144, 274625, 287496, 314432, 343000, 373248, 405224, 421875, 438976, 474552, 512000, 551368, 592704, 614125, 636056, 681472, 729000, 778688, 830584, 857375, 884736, 941192, 1000000]\n"
     ]
    }
   ],
   "source": [
    "#for loop\n",
    "l=[]\n",
    "cube=0\n",
    "for x in range(101):\n",
    "    if x>0:\n",
    "        cube=x**3\n",
    "        if cube%4==0 or cube%5==0:\n",
    "            l.append(cube)\n",
    "print(l)"
   ]
  },
  {
   "cell_type": "code",
   "execution_count": 5,
   "id": "588fdd28-faf0-490c-9413-923b7d4c60fd",
   "metadata": {},
   "outputs": [
    {
     "name": "stdout",
     "output_type": "stream",
     "text": [
      "[8, 64, 125, 216, 512, 1000, 1728, 2744, 3375, 4096, 5832, 8000, 10648, 13824, 15625, 17576, 21952, 27000, 32768, 39304, 42875, 46656, 54872, 64000, 74088, 85184, 91125, 97336, 110592, 125000, 140608, 157464, 166375, 175616, 195112, 216000, 238328, 262144, 274625, 287496, 314432, 343000, 373248, 405224, 421875, 438976, 474552, 512000, 551368, 592704, 614125, 636056, 681472, 729000, 778688, 830584, 857375, 884736, 941192, 1000000]\n"
     ]
    }
   ],
   "source": [
    "#while loop\n",
    "i=1\n",
    "l=[]\n",
    "cube=0\n",
    "while(i<=100):\n",
    "    cube=i**3\n",
    "    if cube%4==0 or cube%5==0:\n",
    "        l.append(cube)\n",
    "    i=i+1\n",
    "print(l)"
   ]
  },
  {
   "cell_type": "markdown",
   "id": "f4b8dee6-6463-4dcc-88ea-fdcb8cf1144e",
   "metadata": {},
   "source": [
    "Q5. Write a program to filter count vowels in the below-given string.\n",
    "string = \"I want to become a data scientist\""
   ]
  },
  {
   "cell_type": "code",
   "execution_count": 6,
   "id": "b1edfc69-2add-4d04-8c97-c4626ab7857d",
   "metadata": {},
   "outputs": [
    {
     "name": "stdout",
     "output_type": "stream",
     "text": [
      "Number of vowels are: 12\n"
     ]
    }
   ],
   "source": [
    "string=\"I want to become a data scientist\"\n",
    "vowels=0\n",
    "for i in string:\n",
    "      if(i=='a' or i=='e' or i=='i' or i=='o' or i=='u' or i=='A' or i=='E' or i=='I' or i=='O' or i=='U'):\n",
    "            vowels=vowels+1\n",
    "print(\"Number of vowels are:\",vowels)"
   ]
  },
  {
   "cell_type": "code",
   "execution_count": null,
   "id": "45702ae3-97ee-4bb1-934f-201a9e270f13",
   "metadata": {},
   "outputs": [],
   "source": []
  }
 ],
 "metadata": {
  "kernelspec": {
   "display_name": "Python 3 (ipykernel)",
   "language": "python",
   "name": "python3"
  },
  "language_info": {
   "codemirror_mode": {
    "name": "ipython",
    "version": 3
   },
   "file_extension": ".py",
   "mimetype": "text/x-python",
   "name": "python",
   "nbconvert_exporter": "python",
   "pygments_lexer": "ipython3",
   "version": "3.10.8"
  }
 },
 "nbformat": 4,
 "nbformat_minor": 5
}
