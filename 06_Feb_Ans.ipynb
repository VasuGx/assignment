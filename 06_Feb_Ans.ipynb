{
 "cells": [
  {
   "cell_type": "markdown",
   "id": "b1667fcb-dc33-4ab1-a449-f8326d4ea563",
   "metadata": {},
   "source": [
    "Q1. Create a function which will take a list as an argument and return the product of all the numbers after creating a flat list."
   ]
  },
  {
   "cell_type": "code",
   "execution_count": 1,
   "id": "ac2f4acc-f976-4b2d-90c1-924968325d13",
   "metadata": {},
   "outputs": [
    {
     "name": "stdout",
     "output_type": "stream",
     "text": [
      "4134711838987085478833841242112000\n"
     ]
    }
   ],
   "source": [
    "l = [1,2,3,4, [44,55,66, True], False, (34,56,78,89,34), {1,2,3,3,2,1}, {1:34, \"key2\": [55, 67, 78, 89], 4: (45,\n",
    "22, 61, 34)}, [56, 'data science'], 'Machine Learning']\n",
    "\n",
    "\n",
    "def flatten_list(lst):\n",
    "    l1=[]\n",
    "    for i in lst:\n",
    "        if type(i)==int or type(i)==str or type(i)==bool:\n",
    "            l1.append(i)\n",
    "        elif type(i)==set or type(i)==tuple or type(i)==list:\n",
    "            b=list(i)\n",
    "            for j in b:\n",
    "                l1.append(j)\n",
    "        elif type(i)==dict:\n",
    "            for k in i.keys():\n",
    "                l1.append(k)\n",
    "            for m in i.values():\n",
    "                if type(m)==list or type(m)==tuple:\n",
    "                    for n in m:\n",
    "                        l1.append(n)\n",
    "                elif type(m)==int:\n",
    "                    l1.append(m)\n",
    "    return l1\n",
    "\n",
    "def calculate_product(l):\n",
    "    l1=flatten_list(l)\n",
    "    product=1\n",
    "    for i in l1:\n",
    "        if type(i)==int:\n",
    "            product=product*i\n",
    "    return product\n",
    "    \n",
    "print(calculate_product(l))\n",
    "    "
   ]
  },
  {
   "cell_type": "markdown",
   "id": "1c714b3d-303b-4a6c-96c0-9042995abc0c",
   "metadata": {},
   "source": [
    "Q2. Write a python program for encrypting a message sent to you by your friend. The logic of encryption should be such that, for a the output should be z. For b, the output should be y. For c, the output should be x respectively. Also, the whitespace should be replaced with a dollar sign. Keep the punctuation marks unchanged."
   ]
  },
  {
   "cell_type": "code",
   "execution_count": 2,
   "id": "8c58ba39-13a1-469e-8c45-40259ed7e6cd",
   "metadata": {},
   "outputs": [
    {
     "name": "stdout",
     "output_type": "stream",
     "text": [
      "r$dzmg$gl$yvxlnv$z$wzgz$hxrvmgrhg.\n"
     ]
    }
   ],
   "source": [
    "def encrypt_message(message):\n",
    "    encrypted = \"\"\n",
    "    for char in message.lower():\n",
    "        if char.isalpha():\n",
    "            encrypted = encrypted+chr(219 - ord(char))  \n",
    "        elif char.isspace():\n",
    "            encrypted = encrypted+\"$\"  \n",
    "        else:\n",
    "            encrypted = encrypted+char  \n",
    "    return encrypted.lower()\n",
    "\n",
    "\n",
    "input_message = \"I want to become a Data Scientist.\"\n",
    "encrypted_message = encrypt_message(input_message)\n",
    "print(encrypted_message)\n"
   ]
  },
  {
   "cell_type": "code",
   "execution_count": null,
   "id": "d0f11889-5d91-4da6-9b3a-841f19c6fb02",
   "metadata": {},
   "outputs": [],
   "source": []
  }
 ],
 "metadata": {
  "kernelspec": {
   "display_name": "Python 3 (ipykernel)",
   "language": "python",
   "name": "python3"
  },
  "language_info": {
   "codemirror_mode": {
    "name": "ipython",
    "version": 3
   },
   "file_extension": ".py",
   "mimetype": "text/x-python",
   "name": "python",
   "nbconvert_exporter": "python",
   "pygments_lexer": "ipython3",
   "version": "3.10.8"
  }
 },
 "nbformat": 4,
 "nbformat_minor": 5
}
